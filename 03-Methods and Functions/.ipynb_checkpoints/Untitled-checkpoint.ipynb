{
 "cells": [
  {
   "cell_type": "code",
   "execution_count": 3,
   "id": "5b406198",
   "metadata": {},
   "outputs": [],
   "source": [
    "test = 'My name is Billy'"
   ]
  },
  {
   "cell_type": "code",
   "execution_count": null,
   "id": "fd74a0ba",
   "metadata": {},
   "outputs": [],
   "source": []
  }
 ],
 "metadata": {
  "kernelspec": {
   "display_name": "Python 3",
   "language": "python",
   "name": "python3"
  },
  "language_info": {
   "codemirror_mode": {
    "name": "ipython",
    "version": 3
   },
   "file_extension": ".py",
   "mimetype": "text/x-python",
   "name": "python",
   "nbconvert_exporter": "python",
   "pygments_lexer": "ipython3",
   "version": "3.8.8"
  }
 },
 "nbformat": 4,
 "nbformat_minor": 5
}
